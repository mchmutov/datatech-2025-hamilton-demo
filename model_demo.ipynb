{
 "cells": [
  {
   "cell_type": "markdown",
   "id": "86afe368",
   "metadata": {},
   "source": [
    "# Hamilton Load Simulation Demo\n",
    "\n",
    "This notebook demonstrates using Hamilton to access the load simulation data and manage dataflows."
   ]
  },
  {
   "cell_type": "markdown",
   "id": "84c07b30",
   "metadata": {},
   "source": [
    "## Setup Autoreload\n",
    "\n",
    "First, let's set up autoreload so that changes to our Hamilton dataflow modules are automatically reloaded."
   ]
  },
  {
   "cell_type": "code",
   "execution_count": 1,
   "id": "68d7b663",
   "metadata": {},
   "outputs": [],
   "source": [
    "import pandas as pd\n",
    "import matplotlib.pyplot as plt\n",
    "import numpy as np\n",
    "import os\n",
    "from datetime import datetime, date, timedelta\n",
    "%matplotlib inline"
   ]
  },
  {
   "cell_type": "markdown",
   "id": "9332054a",
   "metadata": {},
   "source": [
    "## Import Hamilton\n",
    "\n",
    "Now let's import Hamilton and our dataflow module."
   ]
  },
  {
   "cell_type": "code",
   "execution_count": 2,
   "id": "d27ec0d1",
   "metadata": {},
   "outputs": [
    {
     "name": "stderr",
     "output_type": "stream",
     "text": [
      "/home/azureuser/localfiles/datatech-2025-demo/.venv/lib/python3.10/site-packages/tqdm/auto.py:21: TqdmWarning: IProgress not found. Please update jupyter and ipywidgets. See https://ipywidgets.readthedocs.io/en/stable/user_install.html\n",
      "  from .autonotebook import tqdm as notebook_tqdm\n",
      "Importing plotly failed. Interactive plots will not work.\n"
     ]
    }
   ],
   "source": [
    "from hamilton import driver\n",
    "\n",
    "# load extension\n",
    "%load_ext autoreload\n",
    "# configure autoreload to only affect specified files\n",
    "%autoreload 1\n",
    "# import & specify my_module to be reloaded\n",
    "# i.e. this is the data transformation module that I have open in other tab\n",
    "%aimport feature_engineering_dataflow, modeling_dataflow, offline_etl_dataflow"
   ]
  },
  {
   "cell_type": "code",
   "execution_count": 3,
   "id": "846b0b47",
   "metadata": {},
   "outputs": [],
   "source": [
    "db_path = \"load_simulation_results.db\"\n",
    "feature_store_path = \"feature_store.db\"\n",
    "training_cutoff = pd.Timestamp(2025,5,16)"
   ]
  },
  {
   "cell_type": "markdown",
   "id": "9691df83",
   "metadata": {},
   "source": [
    "# Explorations"
   ]
  },
  {
   "cell_type": "markdown",
   "id": "ba47f054",
   "metadata": {},
   "source": [
    "## Load and Explore Data"
   ]
  },
  {
   "cell_type": "code",
   "execution_count": 4,
   "id": "45bc5667",
   "metadata": {},
   "outputs": [],
   "source": [
    "adapter = driver.Builder().with_modules(feature_engineering_dataflow, offline_etl_dataflow).build()\n",
    "# Define the database path\n"
   ]
  },
  {
   "cell_type": "code",
   "execution_count": 5,
   "id": "5c65cbd3",
   "metadata": {},
   "outputs": [
    {
     "name": "stdout",
     "output_type": "stream",
     "text": [
      "Loaded 42500 records from the simulation database\n",
      "Data covers from 2025-02-03 00:00:00 to 2025-05-30 00:00:00\n",
      "Acceptance rate: 3.2%\n"
     ]
    },
    {
     "data": {
      "text/html": [
       "<div>\n",
       "<style scoped>\n",
       "    .dataframe tbody tr th:only-of-type {\n",
       "        vertical-align: middle;\n",
       "    }\n",
       "\n",
       "    .dataframe tbody tr th {\n",
       "        vertical-align: top;\n",
       "    }\n",
       "\n",
       "    .dataframe thead th {\n",
       "        text-align: right;\n",
       "    }\n",
       "</style>\n",
       "<table border=\"1\" class=\"dataframe\">\n",
       "  <thead>\n",
       "    <tr style=\"text-align: right;\">\n",
       "      <th></th>\n",
       "      <th>id</th>\n",
       "      <th>pickup_date</th>\n",
       "      <th>origin_kma</th>\n",
       "      <th>origin_lat</th>\n",
       "      <th>origin_lon</th>\n",
       "      <th>destination_kma</th>\n",
       "      <th>destination_lat</th>\n",
       "      <th>destination_lon</th>\n",
       "      <th>miles</th>\n",
       "      <th>cost</th>\n",
       "      <th>weight</th>\n",
       "      <th>is_accepted</th>\n",
       "    </tr>\n",
       "  </thead>\n",
       "  <tbody>\n",
       "    <tr>\n",
       "      <th>0</th>\n",
       "      <td>b259073f-c55f-402e-9f2d-f4ea8ea22eec</td>\n",
       "      <td>2025-02-03</td>\n",
       "      <td>MN_MIN</td>\n",
       "      <td>45.107102</td>\n",
       "      <td>-93.261940</td>\n",
       "      <td>AZ_PHO</td>\n",
       "      <td>33.512002</td>\n",
       "      <td>-112.071235</td>\n",
       "      <td>1497.0</td>\n",
       "      <td>3494.81</td>\n",
       "      <td>35196.0</td>\n",
       "      <td>False</td>\n",
       "    </tr>\n",
       "    <tr>\n",
       "      <th>1</th>\n",
       "      <td>58ab1b21-02ad-400e-ba33-a4b3a0c596cd</td>\n",
       "      <td>2025-02-03</td>\n",
       "      <td>CA_LAX</td>\n",
       "      <td>34.303815</td>\n",
       "      <td>-118.455181</td>\n",
       "      <td>TX_DAL</td>\n",
       "      <td>32.691379</td>\n",
       "      <td>-96.838933</td>\n",
       "      <td>1460.0</td>\n",
       "      <td>4129.75</td>\n",
       "      <td>27643.0</td>\n",
       "      <td>False</td>\n",
       "    </tr>\n",
       "    <tr>\n",
       "      <th>2</th>\n",
       "      <td>f3d6361a-82b2-4a8c-b256-3ac35e07cbd7</td>\n",
       "      <td>2025-02-03</td>\n",
       "      <td>NJ_ELI</td>\n",
       "      <td>40.536968</td>\n",
       "      <td>-74.693686</td>\n",
       "      <td>FL_LAK</td>\n",
       "      <td>28.151343</td>\n",
       "      <td>-82.081536</td>\n",
       "      <td>1115.0</td>\n",
       "      <td>2914.98</td>\n",
       "      <td>36709.0</td>\n",
       "      <td>False</td>\n",
       "    </tr>\n",
       "    <tr>\n",
       "      <th>3</th>\n",
       "      <td>0205a521-8c9a-4843-b96a-2e516de55e41</td>\n",
       "      <td>2025-02-03</td>\n",
       "      <td>IL_CHI</td>\n",
       "      <td>41.911865</td>\n",
       "      <td>-87.855627</td>\n",
       "      <td>CA_STK</td>\n",
       "      <td>37.934303</td>\n",
       "      <td>-121.692996</td>\n",
       "      <td>2108.0</td>\n",
       "      <td>5726.44</td>\n",
       "      <td>34731.0</td>\n",
       "      <td>False</td>\n",
       "    </tr>\n",
       "    <tr>\n",
       "      <th>4</th>\n",
       "      <td>93ab1b3c-a8d6-4cfe-ba28-46771662a9dd</td>\n",
       "      <td>2025-02-03</td>\n",
       "      <td>MN_MIN</td>\n",
       "      <td>44.805540</td>\n",
       "      <td>-93.341240</td>\n",
       "      <td>IL_CHI</td>\n",
       "      <td>41.641845</td>\n",
       "      <td>-87.676937</td>\n",
       "      <td>420.0</td>\n",
       "      <td>536.08</td>\n",
       "      <td>42648.0</td>\n",
       "      <td>False</td>\n",
       "    </tr>\n",
       "  </tbody>\n",
       "</table>\n",
       "</div>"
      ],
      "text/plain": [
       "                                     id pickup_date origin_kma  origin_lat  \\\n",
       "0  b259073f-c55f-402e-9f2d-f4ea8ea22eec  2025-02-03     MN_MIN   45.107102   \n",
       "1  58ab1b21-02ad-400e-ba33-a4b3a0c596cd  2025-02-03     CA_LAX   34.303815   \n",
       "2  f3d6361a-82b2-4a8c-b256-3ac35e07cbd7  2025-02-03     NJ_ELI   40.536968   \n",
       "3  0205a521-8c9a-4843-b96a-2e516de55e41  2025-02-03     IL_CHI   41.911865   \n",
       "4  93ab1b3c-a8d6-4cfe-ba28-46771662a9dd  2025-02-03     MN_MIN   44.805540   \n",
       "\n",
       "   origin_lon destination_kma  destination_lat  destination_lon   miles  \\\n",
       "0  -93.261940          AZ_PHO        33.512002      -112.071235  1497.0   \n",
       "1 -118.455181          TX_DAL        32.691379       -96.838933  1460.0   \n",
       "2  -74.693686          FL_LAK        28.151343       -82.081536  1115.0   \n",
       "3  -87.855627          CA_STK        37.934303      -121.692996  2108.0   \n",
       "4  -93.341240          IL_CHI        41.641845       -87.676937   420.0   \n",
       "\n",
       "      cost   weight  is_accepted  \n",
       "0  3494.81  35196.0        False  \n",
       "1  4129.75  27643.0        False  \n",
       "2  2914.98  36709.0        False  \n",
       "3  5726.44  34731.0        False  \n",
       "4   536.08  42648.0        False  "
      ]
     },
     "execution_count": 5,
     "metadata": {},
     "output_type": "execute_result"
    }
   ],
   "source": [
    "# Execute the Hamilton dataflow to load data\n",
    "result = adapter.execute(['load_data'], inputs={'db_path': db_path})\n",
    "df = result['load_data']\n",
    "# Display basic information\n",
    "print(f\"Loaded {len(df)} records from the simulation database\")\n",
    "print(f\"Data covers from {df['pickup_date'].min()} to {df['pickup_date'].max()}\")\n",
    "print(f\"Acceptance rate: {df['is_accepted'].mean():.1%}\")\n",
    "\n",
    "# Show a sample\n",
    "df.head()"
   ]
  },
  {
   "cell_type": "code",
   "execution_count": 6,
   "id": "fe8d3838",
   "metadata": {},
   "outputs": [
    {
     "data": {
      "text/html": [
       "<div>\n",
       "<style scoped>\n",
       "    .dataframe tbody tr th:only-of-type {\n",
       "        vertical-align: middle;\n",
       "    }\n",
       "\n",
       "    .dataframe tbody tr th {\n",
       "        vertical-align: top;\n",
       "    }\n",
       "\n",
       "    .dataframe thead th {\n",
       "        text-align: right;\n",
       "    }\n",
       "</style>\n",
       "<table border=\"1\" class=\"dataframe\">\n",
       "  <thead>\n",
       "    <tr style=\"text-align: right;\">\n",
       "      <th></th>\n",
       "      <th>pickup_date</th>\n",
       "      <th>origin_kma</th>\n",
       "      <th>destination_kma</th>\n",
       "      <th>miles</th>\n",
       "      <th>cost</th>\n",
       "      <th>weight</th>\n",
       "      <th>is_accepted</th>\n",
       "    </tr>\n",
       "  </thead>\n",
       "  <tbody>\n",
       "    <tr>\n",
       "      <th>38830</th>\n",
       "      <td>2025-05-21</td>\n",
       "      <td>CA_STK</td>\n",
       "      <td>CA_LAX</td>\n",
       "      <td>372.0</td>\n",
       "      <td>396.51</td>\n",
       "      <td>41764.0</td>\n",
       "      <td>False</td>\n",
       "    </tr>\n",
       "    <tr>\n",
       "      <th>31807</th>\n",
       "      <td>2025-05-01</td>\n",
       "      <td>NJ_ELI</td>\n",
       "      <td>AZ_PHO</td>\n",
       "      <td>2485.0</td>\n",
       "      <td>6317.02</td>\n",
       "      <td>41060.0</td>\n",
       "      <td>False</td>\n",
       "    </tr>\n",
       "    <tr>\n",
       "      <th>37653</th>\n",
       "      <td>2025-05-19</td>\n",
       "      <td>CA_STK</td>\n",
       "      <td>GA_ATL</td>\n",
       "      <td>2413.0</td>\n",
       "      <td>3667.78</td>\n",
       "      <td>26213.0</td>\n",
       "      <td>False</td>\n",
       "    </tr>\n",
       "    <tr>\n",
       "      <th>30999</th>\n",
       "      <td>2025-04-29</td>\n",
       "      <td>TX_HOU</td>\n",
       "      <td>WI_MIL</td>\n",
       "      <td>1194.0</td>\n",
       "      <td>2227.28</td>\n",
       "      <td>42292.0</td>\n",
       "      <td>False</td>\n",
       "    </tr>\n",
       "    <tr>\n",
       "      <th>7394</th>\n",
       "      <td>2025-02-21</td>\n",
       "      <td>WI_MIL</td>\n",
       "      <td>CA_LAX</td>\n",
       "      <td>2048.0</td>\n",
       "      <td>4715.08</td>\n",
       "      <td>28735.0</td>\n",
       "      <td>False</td>\n",
       "    </tr>\n",
       "    <tr>\n",
       "      <th>28771</th>\n",
       "      <td>2025-04-23</td>\n",
       "      <td>FL_LAK</td>\n",
       "      <td>CA_STK</td>\n",
       "      <td>2732.0</td>\n",
       "      <td>7636.38</td>\n",
       "      <td>37970.0</td>\n",
       "      <td>False</td>\n",
       "    </tr>\n",
       "    <tr>\n",
       "      <th>6918</th>\n",
       "      <td>2025-02-20</td>\n",
       "      <td>IL_CHI</td>\n",
       "      <td>WI_MIL</td>\n",
       "      <td>81.0</td>\n",
       "      <td>161.19</td>\n",
       "      <td>34085.0</td>\n",
       "      <td>False</td>\n",
       "    </tr>\n",
       "    <tr>\n",
       "      <th>7147</th>\n",
       "      <td>2025-02-21</td>\n",
       "      <td>TX_DAL</td>\n",
       "      <td>GA_ATL</td>\n",
       "      <td>833.0</td>\n",
       "      <td>2411.83</td>\n",
       "      <td>42874.0</td>\n",
       "      <td>False</td>\n",
       "    </tr>\n",
       "    <tr>\n",
       "      <th>20968</th>\n",
       "      <td>2025-04-01</td>\n",
       "      <td>FL_LAK</td>\n",
       "      <td>IL_CHI</td>\n",
       "      <td>1174.0</td>\n",
       "      <td>1095.86</td>\n",
       "      <td>33297.0</td>\n",
       "      <td>False</td>\n",
       "    </tr>\n",
       "    <tr>\n",
       "      <th>40907</th>\n",
       "      <td>2025-05-27</td>\n",
       "      <td>FL_LAK</td>\n",
       "      <td>CA_STK</td>\n",
       "      <td>2755.0</td>\n",
       "      <td>8187.12</td>\n",
       "      <td>40202.0</td>\n",
       "      <td>False</td>\n",
       "    </tr>\n",
       "  </tbody>\n",
       "</table>\n",
       "</div>"
      ],
      "text/plain": [
       "      pickup_date origin_kma destination_kma   miles     cost   weight  \\\n",
       "38830  2025-05-21     CA_STK          CA_LAX   372.0   396.51  41764.0   \n",
       "31807  2025-05-01     NJ_ELI          AZ_PHO  2485.0  6317.02  41060.0   \n",
       "37653  2025-05-19     CA_STK          GA_ATL  2413.0  3667.78  26213.0   \n",
       "30999  2025-04-29     TX_HOU          WI_MIL  1194.0  2227.28  42292.0   \n",
       "7394   2025-02-21     WI_MIL          CA_LAX  2048.0  4715.08  28735.0   \n",
       "28771  2025-04-23     FL_LAK          CA_STK  2732.0  7636.38  37970.0   \n",
       "6918   2025-02-20     IL_CHI          WI_MIL    81.0   161.19  34085.0   \n",
       "7147   2025-02-21     TX_DAL          GA_ATL   833.0  2411.83  42874.0   \n",
       "20968  2025-04-01     FL_LAK          IL_CHI  1174.0  1095.86  33297.0   \n",
       "40907  2025-05-27     FL_LAK          CA_STK  2755.0  8187.12  40202.0   \n",
       "\n",
       "       is_accepted  \n",
       "38830        False  \n",
       "31807        False  \n",
       "37653        False  \n",
       "30999        False  \n",
       "7394         False  \n",
       "28771        False  \n",
       "6918         False  \n",
       "7147         False  \n",
       "20968        False  \n",
       "40907        False  "
      ]
     },
     "execution_count": 6,
     "metadata": {},
     "output_type": "execute_result"
    }
   ],
   "source": [
    "df.sample(10)[['pickup_date', 'origin_kma', 'destination_kma', 'miles', 'cost', 'weight', 'is_accepted']]"
   ]
  },
  {
   "cell_type": "code",
   "execution_count": null,
   "id": "7a3542ab",
   "metadata": {},
   "outputs": [],
   "source": []
  },
  {
   "cell_type": "markdown",
   "id": "62fe79e8",
   "metadata": {},
   "source": [
    "## Simple Features"
   ]
  },
  {
   "cell_type": "code",
   "execution_count": 10,
   "id": "783f6a1d",
   "metadata": {},
   "outputs": [],
   "source": [
    "training_config = {'context': 'training', 'cutoff': training_cutoff}\n",
    "training_adapter = driver.Builder().with_config(training_config).with_modules(feature_engineering_dataflow, offline_etl_dataflow).build()\n"
   ]
  },
  {
   "cell_type": "code",
   "execution_count": 11,
   "id": "6d6a40e2",
   "metadata": {},
   "outputs": [
    {
     "data": {
      "text/plain": [
       "0        3494.81\n",
       "1        4129.75\n",
       "2        2914.98\n",
       "3        5726.44\n",
       "4         536.08\n",
       "          ...   \n",
       "36995    1950.54\n",
       "36996    4781.87\n",
       "36997     498.61\n",
       "36998     674.49\n",
       "36999    1087.96\n",
       "Name: cost, Length: 37000, dtype: float64"
      ]
     },
     "execution_count": 11,
     "metadata": {},
     "output_type": "execute_result"
    }
   ],
   "source": [
    "data = training_adapter.execute(['cost', 'miles'], inputs={'db_path': db_path})\n",
    "data[\"cost\"]"
   ]
  },
  {
   "cell_type": "code",
   "execution_count": 12,
   "id": "4f738f65",
   "metadata": {},
   "outputs": [
    {
     "data": {
      "image/svg+xml": [
       "<?xml version=\"1.0\" encoding=\"UTF-8\" standalone=\"no\"?>\n",
       "<!DOCTYPE svg PUBLIC \"-//W3C//DTD SVG 1.1//EN\"\n",
       " \"http://www.w3.org/Graphics/SVG/1.1/DTD/svg11.dtd\">\n",
       "<!-- Generated by graphviz version 2.43.0 (0)\n",
       " -->\n",
       "<!-- Title: %3 Pages: 1 -->\n",
       "<svg width=\"997pt\" height=\"448pt\"\n",
       " viewBox=\"0.00 0.00 997.00 448.00\" xmlns=\"http://www.w3.org/2000/svg\" xmlns:xlink=\"http://www.w3.org/1999/xlink\">\n",
       "<g id=\"graph0\" class=\"graph\" transform=\"scale(1 1) rotate(0) translate(4 444)\">\n",
       "<title>%3</title>\n",
       "<polygon fill=\"white\" stroke=\"transparent\" points=\"-4,4 -4,-444 993,-444 993,4 -4,4\"/>\n",
       "<g id=\"clust1\" class=\"cluster\">\n",
       "<title>cluster__legend</title>\n",
       "<polygon fill=\"#ffffff\" stroke=\"black\" points=\"35.5,-191 35.5,-432 131.5,-432 131.5,-191 35.5,-191\"/>\n",
       "<text text-anchor=\"middle\" x=\"83.5\" y=\"-416.8\" font-family=\"Helvetica,sans-Serif\" font-size=\"14.00\">Legend</text>\n",
       "</g>\n",
       "<!-- context -->\n",
       "<g id=\"node1\" class=\"node\">\n",
       "<title>context</title>\n",
       "<polygon fill=\"#ffffff\" stroke=\"black\" points=\"116,-50 45,-50 45,0 122,0 122,-44 116,-50\"/>\n",
       "<polyline fill=\"none\" stroke=\"black\" points=\"116,-50 116,-44 \"/>\n",
       "<polyline fill=\"none\" stroke=\"black\" points=\"122,-44 116,-44 \"/>\n",
       "<text text-anchor=\"start\" x=\"53\" y=\"-35.8\" font-family=\"Helvetica,sans-Serif\" font-weight=\"bold\" font-size=\"14.00\">context</text>\n",
       "<text text-anchor=\"start\" x=\"56\" y=\"-7.8\" font-family=\"Helvetica,sans-Serif\" font-style=\"italic\" font-size=\"14.00\">training</text>\n",
       "</g>\n",
       "<!-- cutoff -->\n",
       "<g id=\"node2\" class=\"node\">\n",
       "<title>cutoff</title>\n",
       "<polygon fill=\"#ffffff\" stroke=\"black\" points=\"161,-118 0,-118 0,-68 167,-68 167,-112 161,-118\"/>\n",
       "<polyline fill=\"none\" stroke=\"black\" points=\"161,-118 161,-112 \"/>\n",
       "<polyline fill=\"none\" stroke=\"black\" points=\"167,-112 161,-112 \"/>\n",
       "<text text-anchor=\"start\" x=\"60.5\" y=\"-103.8\" font-family=\"Helvetica,sans-Serif\" font-weight=\"bold\" font-size=\"14.00\">cutoff</text>\n",
       "<text text-anchor=\"start\" x=\"8\" y=\"-75.8\" font-family=\"Helvetica,sans-Serif\" font-style=\"italic\" font-size=\"14.00\">2025&#45;05&#45;16 00:00:00</text>\n",
       "</g>\n",
       "<!-- cost -->\n",
       "<g id=\"node3\" class=\"node\">\n",
       "<title>cost</title>\n",
       "<path fill=\"#b4d8e4\" stroke=\"black\" d=\"M815.5,-195C815.5,-195 714.5,-195 714.5,-195 708.5,-195 702.5,-189 702.5,-183 702.5,-183 702.5,-143 702.5,-143 702.5,-137 708.5,-131 714.5,-131 714.5,-131 815.5,-131 815.5,-131 821.5,-131 827.5,-137 827.5,-143 827.5,-143 827.5,-183 827.5,-183 827.5,-189 821.5,-195 815.5,-195\"/>\n",
       "<text text-anchor=\"start\" x=\"713.5\" y=\"-173.8\" font-family=\"Helvetica,sans-Serif\" font-weight=\"bold\" font-size=\"14.00\">cost: context</text>\n",
       "<text text-anchor=\"start\" x=\"743.5\" y=\"-145.8\" font-family=\"Helvetica,sans-Serif\" font-style=\"italic\" font-size=\"14.00\">Series</text>\n",
       "</g>\n",
       "<!-- cost_per_mile -->\n",
       "<g id=\"node7\" class=\"node\">\n",
       "<title>cost_per_mile</title>\n",
       "<path fill=\"#ffc857\" stroke=\"black\" d=\"M977,-154C977,-154 873,-154 873,-154 867,-154 861,-148 861,-142 861,-142 861,-102 861,-102 861,-96 867,-90 873,-90 873,-90 977,-90 977,-90 983,-90 989,-96 989,-102 989,-102 989,-142 989,-142 989,-148 983,-154 977,-154\"/>\n",
       "<text text-anchor=\"start\" x=\"872\" y=\"-132.8\" font-family=\"Helvetica,sans-Serif\" font-weight=\"bold\" font-size=\"14.00\">cost_per_mile</text>\n",
       "<text text-anchor=\"start\" x=\"903.5\" y=\"-104.8\" font-family=\"Helvetica,sans-Serif\" font-style=\"italic\" font-size=\"14.00\">Series</text>\n",
       "</g>\n",
       "<!-- cost&#45;&gt;cost_per_mile -->\n",
       "<g id=\"edge6\" class=\"edge\">\n",
       "<title>cost&#45;&gt;cost_per_mile</title>\n",
       "<path fill=\"none\" stroke=\"black\" d=\"M827.54,-147.03C835.22,-145.04 843.12,-142.99 850.95,-140.96\"/>\n",
       "<polygon fill=\"black\" stroke=\"black\" points=\"852.01,-144.3 860.81,-138.4 850.25,-137.52 852.01,-144.3\"/>\n",
       "</g>\n",
       "<!-- main_data -->\n",
       "<g id=\"node4\" class=\"node\">\n",
       "<title>main_data</title>\n",
       "<path fill=\"#b4d8e4\" stroke=\"black\" d=\"M657,-154C657,-154 508,-154 508,-154 502,-154 496,-148 496,-142 496,-142 496,-102 496,-102 496,-96 502,-90 508,-90 508,-90 657,-90 657,-90 663,-90 669,-96 669,-102 669,-102 669,-142 669,-142 669,-148 663,-154 657,-154\"/>\n",
       "<text text-anchor=\"start\" x=\"507\" y=\"-132.8\" font-family=\"Helvetica,sans-Serif\" font-weight=\"bold\" font-size=\"14.00\">main_data: context</text>\n",
       "<text text-anchor=\"start\" x=\"544\" y=\"-104.8\" font-family=\"Helvetica,sans-Serif\" font-style=\"italic\" font-size=\"14.00\">DataFrame</text>\n",
       "</g>\n",
       "<!-- main_data&#45;&gt;cost -->\n",
       "<g id=\"edge1\" class=\"edge\">\n",
       "<title>main_data&#45;&gt;cost</title>\n",
       "<path fill=\"none\" stroke=\"black\" d=\"M669.26,-141.48C677.04,-143.25 684.86,-145.02 692.5,-146.76\"/>\n",
       "<polygon fill=\"black\" stroke=\"black\" points=\"691.88,-150.21 702.41,-149.01 693.43,-143.38 691.88,-150.21\"/>\n",
       "</g>\n",
       "<!-- miles -->\n",
       "<g id=\"node6\" class=\"node\">\n",
       "<title>miles</title>\n",
       "<path fill=\"#b4d8e4\" stroke=\"black\" d=\"M820,-113C820,-113 710,-113 710,-113 704,-113 698,-107 698,-101 698,-101 698,-61 698,-61 698,-55 704,-49 710,-49 710,-49 820,-49 820,-49 826,-49 832,-55 832,-61 832,-61 832,-101 832,-101 832,-107 826,-113 820,-113\"/>\n",
       "<text text-anchor=\"start\" x=\"709\" y=\"-91.8\" font-family=\"Helvetica,sans-Serif\" font-weight=\"bold\" font-size=\"14.00\">miles: context</text>\n",
       "<text text-anchor=\"start\" x=\"743.5\" y=\"-63.8\" font-family=\"Helvetica,sans-Serif\" font-style=\"italic\" font-size=\"14.00\">Series</text>\n",
       "</g>\n",
       "<!-- main_data&#45;&gt;miles -->\n",
       "<g id=\"edge5\" class=\"edge\">\n",
       "<title>main_data&#45;&gt;miles</title>\n",
       "<path fill=\"none\" stroke=\"black\" d=\"M669.26,-102.52C675.43,-101.12 681.64,-99.71 687.76,-98.32\"/>\n",
       "<polygon fill=\"black\" stroke=\"black\" points=\"688.97,-101.63 697.95,-96 687.42,-94.81 688.97,-101.63\"/>\n",
       "</g>\n",
       "<!-- load_data -->\n",
       "<g id=\"node5\" class=\"node\">\n",
       "<title>load_data</title>\n",
       "<path fill=\"#b4d8e4\" stroke=\"black\" d=\"M451,-191C451,-191 376,-191 376,-191 370,-191 364,-185 364,-179 364,-179 364,-139 364,-139 364,-133 370,-127 376,-127 376,-127 451,-127 451,-127 457,-127 463,-133 463,-139 463,-139 463,-179 463,-179 463,-185 457,-191 451,-191\"/>\n",
       "<text text-anchor=\"start\" x=\"375\" y=\"-169.8\" font-family=\"Helvetica,sans-Serif\" font-weight=\"bold\" font-size=\"14.00\">load_data</text>\n",
       "<text text-anchor=\"start\" x=\"375\" y=\"-141.8\" font-family=\"Helvetica,sans-Serif\" font-style=\"italic\" font-size=\"14.00\">DataFrame</text>\n",
       "</g>\n",
       "<!-- load_data&#45;&gt;main_data -->\n",
       "<g id=\"edge2\" class=\"edge\">\n",
       "<title>load_data&#45;&gt;main_data</title>\n",
       "<path fill=\"none\" stroke=\"black\" d=\"M463.25,-148.2C470.5,-146.59 478.16,-144.9 485.97,-143.16\"/>\n",
       "<polygon fill=\"black\" stroke=\"black\" points=\"486.92,-146.54 495.92,-140.96 485.4,-139.71 486.92,-146.54\"/>\n",
       "</g>\n",
       "<!-- miles&#45;&gt;cost_per_mile -->\n",
       "<g id=\"edge7\" class=\"edge\">\n",
       "<title>miles&#45;&gt;cost_per_mile</title>\n",
       "<path fill=\"none\" stroke=\"black\" d=\"M832.09,-98.15C838.36,-99.78 844.74,-101.43 851.07,-103.08\"/>\n",
       "<polygon fill=\"black\" stroke=\"black\" points=\"850.4,-106.52 860.95,-105.64 852.15,-99.74 850.4,-106.52\"/>\n",
       "</g>\n",
       "<!-- db_connection -->\n",
       "<g id=\"node8\" class=\"node\">\n",
       "<title>db_connection</title>\n",
       "<path fill=\"#b4d8e4\" stroke=\"black\" d=\"M319,-191C319,-191 208,-191 208,-191 202,-191 196,-185 196,-179 196,-179 196,-139 196,-139 196,-133 202,-127 208,-127 208,-127 319,-127 319,-127 325,-127 331,-133 331,-139 331,-139 331,-179 331,-179 331,-185 325,-191 319,-191\"/>\n",
       "<text text-anchor=\"start\" x=\"207\" y=\"-169.8\" font-family=\"Helvetica,sans-Serif\" font-weight=\"bold\" font-size=\"14.00\">db_connection</text>\n",
       "<text text-anchor=\"start\" x=\"224\" y=\"-141.8\" font-family=\"Helvetica,sans-Serif\" font-style=\"italic\" font-size=\"14.00\">Connection</text>\n",
       "</g>\n",
       "<!-- db_connection&#45;&gt;load_data -->\n",
       "<g id=\"edge4\" class=\"edge\">\n",
       "<title>db_connection&#45;&gt;load_data</title>\n",
       "<path fill=\"none\" stroke=\"black\" d=\"M331.14,-159C338.74,-159 346.44,-159 353.92,-159\"/>\n",
       "<polygon fill=\"black\" stroke=\"black\" points=\"353.95,-162.5 363.95,-159 353.95,-155.5 353.95,-162.5\"/>\n",
       "</g>\n",
       "<!-- _main_data_inputs -->\n",
       "<g id=\"node9\" class=\"node\">\n",
       "<title>_main_data_inputs</title>\n",
       "<polygon fill=\"#ffffff\" stroke=\"black\" stroke-dasharray=\"5,2\" points=\"467,-108.5 360,-108.5 360,-63.5 467,-63.5 467,-108.5\"/>\n",
       "<text text-anchor=\"start\" x=\"375.5\" y=\"-81.8\" font-family=\"Helvetica,sans-Serif\" font-size=\"14.00\">cutoff</text>\n",
       "<text text-anchor=\"start\" x=\"421.5\" y=\"-81.8\" font-family=\"Helvetica,sans-Serif\" font-size=\"14.00\">date</text>\n",
       "</g>\n",
       "<!-- _main_data_inputs&#45;&gt;main_data -->\n",
       "<g id=\"edge3\" class=\"edge\">\n",
       "<title>_main_data_inputs&#45;&gt;main_data</title>\n",
       "<path fill=\"none\" stroke=\"black\" d=\"M467.34,-97.39C473.3,-98.67 479.5,-100.01 485.79,-101.37\"/>\n",
       "<polygon fill=\"black\" stroke=\"black\" points=\"485.22,-104.83 495.74,-103.51 486.7,-97.98 485.22,-104.83\"/>\n",
       "</g>\n",
       "<!-- _db_connection_inputs -->\n",
       "<g id=\"node10\" class=\"node\">\n",
       "<title>_db_connection_inputs</title>\n",
       "<polygon fill=\"#ffffff\" stroke=\"black\" stroke-dasharray=\"5,2\" points=\"139.5,-181.5 27.5,-181.5 27.5,-136.5 139.5,-136.5 139.5,-181.5\"/>\n",
       "<text text-anchor=\"start\" x=\"42.5\" y=\"-154.8\" font-family=\"Helvetica,sans-Serif\" font-size=\"14.00\">db_path</text>\n",
       "<text text-anchor=\"start\" x=\"105.5\" y=\"-154.8\" font-family=\"Helvetica,sans-Serif\" font-size=\"14.00\">str</text>\n",
       "</g>\n",
       "<!-- _db_connection_inputs&#45;&gt;db_connection -->\n",
       "<g id=\"edge8\" class=\"edge\">\n",
       "<title>_db_connection_inputs&#45;&gt;db_connection</title>\n",
       "<path fill=\"none\" stroke=\"black\" d=\"M139.84,-159C154.41,-159 170.39,-159 185.86,-159\"/>\n",
       "<polygon fill=\"black\" stroke=\"black\" points=\"185.93,-162.5 195.93,-159 185.93,-155.5 185.93,-162.5\"/>\n",
       "</g>\n",
       "<!-- config -->\n",
       "<g id=\"node11\" class=\"node\">\n",
       "<title>config</title>\n",
       "<polygon fill=\"#ffffff\" stroke=\"black\" points=\"107,-401 54,-401 54,-365 113,-365 113,-395 107,-401\"/>\n",
       "<polyline fill=\"none\" stroke=\"black\" points=\"107,-401 107,-395 \"/>\n",
       "<polyline fill=\"none\" stroke=\"black\" points=\"113,-395 107,-395 \"/>\n",
       "<text text-anchor=\"middle\" x=\"83.5\" y=\"-379.3\" font-family=\"Helvetica,sans-Serif\" font-size=\"14.00\">config</text>\n",
       "</g>\n",
       "<!-- input -->\n",
       "<g id=\"node12\" class=\"node\">\n",
       "<title>input</title>\n",
       "<polygon fill=\"#ffffff\" stroke=\"black\" stroke-dasharray=\"5,2\" points=\"113,-346.5 54,-346.5 54,-309.5 113,-309.5 113,-346.5\"/>\n",
       "<text text-anchor=\"middle\" x=\"83.5\" y=\"-324.3\" font-family=\"Helvetica,sans-Serif\" font-size=\"14.00\">input</text>\n",
       "</g>\n",
       "<!-- function -->\n",
       "<g id=\"node13\" class=\"node\">\n",
       "<title>function</title>\n",
       "<path fill=\"#b4d8e4\" stroke=\"black\" d=\"M111.5,-291.5C111.5,-291.5 55.5,-291.5 55.5,-291.5 49.5,-291.5 43.5,-285.5 43.5,-279.5 43.5,-279.5 43.5,-266.5 43.5,-266.5 43.5,-260.5 49.5,-254.5 55.5,-254.5 55.5,-254.5 111.5,-254.5 111.5,-254.5 117.5,-254.5 123.5,-260.5 123.5,-266.5 123.5,-266.5 123.5,-279.5 123.5,-279.5 123.5,-285.5 117.5,-291.5 111.5,-291.5\"/>\n",
       "<text text-anchor=\"middle\" x=\"83.5\" y=\"-269.3\" font-family=\"Helvetica,sans-Serif\" font-size=\"14.00\">function</text>\n",
       "</g>\n",
       "<!-- output -->\n",
       "<g id=\"node14\" class=\"node\">\n",
       "<title>output</title>\n",
       "<path fill=\"#ffc857\" stroke=\"black\" d=\"M105.5,-236.5C105.5,-236.5 61.5,-236.5 61.5,-236.5 55.5,-236.5 49.5,-230.5 49.5,-224.5 49.5,-224.5 49.5,-211.5 49.5,-211.5 49.5,-205.5 55.5,-199.5 61.5,-199.5 61.5,-199.5 105.5,-199.5 105.5,-199.5 111.5,-199.5 117.5,-205.5 117.5,-211.5 117.5,-211.5 117.5,-224.5 117.5,-224.5 117.5,-230.5 111.5,-236.5 105.5,-236.5\"/>\n",
       "<text text-anchor=\"middle\" x=\"83.5\" y=\"-214.3\" font-family=\"Helvetica,sans-Serif\" font-size=\"14.00\">output</text>\n",
       "</g>\n",
       "</g>\n",
       "</svg>\n"
      ],
      "text/plain": [
       "<graphviz.graphs.Digraph at 0x73da6c3758a0>"
      ]
     },
     "execution_count": 12,
     "metadata": {},
     "output_type": "execute_result"
    }
   ],
   "source": [
    "training_adapter.visualize_execution(['cost_per_mile'], inputs={'db_path': db_path})"
   ]
  },
  {
   "cell_type": "markdown",
   "id": "39a3b38f",
   "metadata": {},
   "source": [
    "# Model Training"
   ]
  },
  {
   "cell_type": "code",
   "execution_count": 13,
   "id": "0dd0ad1c",
   "metadata": {},
   "outputs": [],
   "source": [
    "features = [\n",
    "    'cost',\n",
    "    'miles',\n",
    "    'weight',\n",
    "    'cost_per_mile',\n",
    "    # 'acceptance_forecast',\n",
    "]\n",
    "target = 'is_accepted'"
   ]
  },
  {
   "cell_type": "markdown",
   "id": "7d166a77",
   "metadata": {},
   "source": [
    "## Hydrate the feature store"
   ]
  },
  {
   "cell_type": "code",
   "execution_count": 14,
   "id": "82660c12",
   "metadata": {},
   "outputs": [],
   "source": [
    "feature_store_config = {'context': 'feature_store', 'feature_store_path': feature_store_path}\n",
    "feature_store_adapter = driver.Builder().with_config(feature_store_config).with_modules(feature_engineering_dataflow, offline_etl_dataflow).build()"
   ]
  },
  {
   "cell_type": "code",
   "execution_count": 15,
   "id": "a385b4a9",
   "metadata": {},
   "outputs": [
    {
     "data": {
      "text/html": [
       "\n",
       "<style>\n",
       "    /* Turns off some styling */\n",
       "    progress {\n",
       "        /* gets rid of default border in Firefox and Opera. */\n",
       "        border: none;\n",
       "        /* Needs to be in here for Safari polyfill so background images work as expected. */\n",
       "        background-size: auto;\n",
       "    }\n",
       "    progress:not([value]), progress:not([value])::-webkit-progress-bar {\n",
       "        background: repeating-linear-gradient(45deg, #7e7e7e, #7e7e7e 10px, #5c5c5c 10px, #5c5c5c 20px);\n",
       "    }\n",
       "    .progress-bar-interrupted, .progress-bar-interrupted::-webkit-progress-bar {\n",
       "        background: #F44336;\n",
       "    }\n",
       "</style>\n"
      ],
      "text/plain": [
       "<IPython.core.display.HTML object>"
      ]
     },
     "metadata": {},
     "output_type": "display_data"
    },
    {
     "data": {
      "text/html": [
       "\n",
       "    <div>\n",
       "      <progress value='132' class='' max='132' style='width:300px; height:20px; vertical-align: middle;'></progress>\n",
       "      100.00% [132/132 00:26&lt;00:00]\n",
       "    </div>\n",
       "    "
      ],
      "text/plain": [
       "<IPython.core.display.HTML object>"
      ]
     },
     "metadata": {},
     "output_type": "display_data"
    },
    {
     "data": {
      "text/plain": [
       "{'acceptance_forecast': None}"
      ]
     },
     "execution_count": 15,
     "metadata": {},
     "output_type": "execute_result"
    }
   ],
   "source": [
    "feature_store_adapter.execute(['acceptance_forecast'], inputs={'db_path': db_path})"
   ]
  },
  {
   "cell_type": "markdown",
   "id": "011d9327",
   "metadata": {},
   "source": [
    "## Train the model"
   ]
  },
  {
   "cell_type": "markdown",
   "id": "4734fbd6",
   "metadata": {},
   "source": [
    "### Features"
   ]
  },
  {
   "cell_type": "code",
   "execution_count": 16,
   "id": "341dd36b",
   "metadata": {},
   "outputs": [],
   "source": [
    "training_config = {'context': 'training', 'cutoff': training_cutoff}\n",
    "training_inputs = {'db_path': db_path, 'feature_store_path': feature_store_path}\n",
    "training_adapter = driver.Builder().with_config(training_config).with_modules(feature_engineering_dataflow, offline_etl_dataflow).build()\n"
   ]
  },
  {
   "cell_type": "code",
   "execution_count": 17,
   "id": "f896e65b",
   "metadata": {},
   "outputs": [],
   "source": [
    "training_features_df = pd.DataFrame(training_adapter.execute(features, inputs=training_inputs))\n",
    "training_target_df = pd.DataFrame(training_adapter.execute([target], inputs=training_inputs))"
   ]
  },
  {
   "cell_type": "markdown",
   "id": "acef7519",
   "metadata": {},
   "source": [
    "### Model"
   ]
  },
  {
   "cell_type": "code",
   "execution_count": 18,
   "id": "172fa9a4",
   "metadata": {},
   "outputs": [],
   "source": [
    "model_training_config = {'context': 'training', 'hyperparams': None, 'model_file_path': 'model.pkl'}\n",
    "model_training_inputs = {'features_df': training_features_df, 'target_df': training_target_df}\n",
    "model_training_adapter = driver.Builder().with_config(model_training_config).with_modules(modeling_dataflow).build()\n"
   ]
  },
  {
   "cell_type": "code",
   "execution_count": 19,
   "id": "fa5ea1e1",
   "metadata": {},
   "outputs": [
    {
     "data": {
      "text/plain": [
       "{'save_model': {}}"
      ]
     },
     "execution_count": 19,
     "metadata": {},
     "output_type": "execute_result"
    }
   ],
   "source": [
    "model_training_adapter.execute(['save_model'], inputs=model_training_inputs)"
   ]
  },
  {
   "cell_type": "markdown",
   "id": "89fce28c",
   "metadata": {},
   "source": [
    "# Model evaluation"
   ]
  },
  {
   "cell_type": "code",
   "execution_count": 20,
   "id": "9bb77e48",
   "metadata": {},
   "outputs": [],
   "source": [
    "test_config = {'context': 'testing', 'cutoff': training_cutoff}\n",
    "test_inputs = {'db_path': db_path, 'feature_store_path': feature_store_path}\n",
    "test_adapter = driver.Builder().with_config(test_config).with_modules(feature_engineering_dataflow, offline_etl_dataflow).build()\n",
    "test_features_df = pd.DataFrame(test_adapter.execute(features, inputs=test_inputs))\n",
    "test_target_df = pd.DataFrame(test_adapter.execute([target], inputs=test_inputs))"
   ]
  },
  {
   "cell_type": "code",
   "execution_count": 21,
   "id": "c253c898",
   "metadata": {},
   "outputs": [],
   "source": [
    "model_evaluation_config = {'context': 'testing', 'model_file_path': 'model.pkl', 'prediction_threshold': 0.5}\n",
    "model_evaluation_inputs = {'features_df': test_features_df, 'target_df': test_target_df}\n",
    "model_evaluation_adapter = driver.Builder().with_config(model_evaluation_config).with_modules(modeling_dataflow).build()\n"
   ]
  },
  {
   "cell_type": "code",
   "execution_count": 22,
   "id": "afc3462b",
   "metadata": {},
   "outputs": [
    {
     "name": "stdout",
     "output_type": "stream",
     "text": [
      "Accuracy: 96.9%\n",
      "Precision: 50.0%\n",
      "Recall: 4.7%\n"
     ]
    },
    {
     "data": {
      "image/png": "[encoded data removed]",
      "text/plain": [
       "<Figure size 640x480 with 1 Axes>"
      ]
     },
     "metadata": {},
     "output_type": "display_data"
    },
    {
     "data": {
      "image/png": "[encoded data removed]",
      "text/plain": [
       "<Figure size 640x480 with 2 Axes>"
      ]
     },
     "metadata": {},
     "output_type": "display_data"
    }
   ],
   "source": [
    "metrics = [\n",
    "    'accuracy',\n",
    "    'precision',\n",
    "    'recall',\n",
    "    'precision_recall_curve',\n",
    "    'confusion_matrix',\n",
    "]\n",
    "model_evaluation_results = model_evaluation_adapter.execute(metrics, inputs=model_evaluation_inputs)"
   ]
  },
  {
   "cell_type": "code",
   "execution_count": null,
   "id": "1b4ebe3e",
   "metadata": {},
   "outputs": [],
   "source": []
  },
  {
   "cell_type": "code",
   "execution_count": null,
   "id": "fd937d50",
   "metadata": {},
   "outputs": [],
   "source": []
  }
 ],
 "metadata": {
  "kernelspec": {
   "display_name": ".venv",
   "language": "python",
   "name": "python3"
  },
  "language_info": {
   "codemirror_mode": {
    "name": "ipython",
    "version": 3
   },
   "file_extension": ".py",
   "mimetype": "text/x-python",
   "name": "python",
   "nbconvert_exporter": "python",
   "pygments_lexer": "ipython3",
   "version": "3.10.12"
  }
 },
 "nbformat": 4,
 "nbformat_minor": 5
}
