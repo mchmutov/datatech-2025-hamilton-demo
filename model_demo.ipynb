{
 "cells": [
  {
   "cell_type": "markdown",
   "id": "86afe368",
   "metadata": {},
   "source": [
    "# Hamilton Load Simulation Demo\n",
    "\n",
    "This notebook demonstrates using Hamilton to access the load simulation data and manage dataflows."
   ]
  },
  {
   "cell_type": "markdown",
   "id": "84c07b30",
   "metadata": {},
   "source": [
    "## Setup"
   ]
  },
  {
   "cell_type": "code",
   "execution_count": 1,
   "id": "68d7b663",
   "metadata": {},
   "outputs": [
    {
     "name": "stderr",
     "output_type": "stream",
     "text": [
      "/home/azureuser/localfiles/datatech-2025-demo/.venv/lib/python3.10/site-packages/tqdm/auto.py:21: TqdmWarning: IProgress not found. Please update jupyter and ipywidgets. See https://ipywidgets.readthedocs.io/en/stable/user_install.html\n",
      "  from .autonotebook import tqdm as notebook_tqdm\n",
      "Importing plotly failed. Interactive plots will not work.\n"
     ]
    }
   ],
   "source": [
    "from models import Load, Location, KMA\n",
    "from datetime import date\n",
    "import pandas as pd\n",
    "%matplotlib inline\n",
    "from hamilton import driver\n",
    "\n",
    "%load_ext autoreload\n",
    "%autoreload 1\n",
    "%aimport dataflows.feature_engineering_dataflow, dataflows.modeling_dataflow, dataflows.offline_etl_dataflow, dataflows.online_inference_dataflow"
   ]
  },
  {
   "cell_type": "code",
   "execution_count": 2,
   "id": "846b0b47",
   "metadata": {},
   "outputs": [],
   "source": [
    "db_path = \"load_simulation_results.db\"\n",
    "feature_store_path = \"feature_store.db\"\n",
    "training_cutoff = pd.Timestamp(2025,5,16)"
   ]
  },
  {
   "cell_type": "markdown",
   "id": "9691df83",
   "metadata": {},
   "source": [
    "# Explorations"
   ]
  },
  {
   "cell_type": "markdown",
   "id": "ba47f054",
   "metadata": {},
   "source": [
    "## Load and Explore Data"
   ]
  },
  {
   "cell_type": "code",
   "execution_count": 3,
   "id": "45bc5667",
   "metadata": {},
   "outputs": [],
   "source": [
    "adapter = driver.Builder().with_modules(dataflows.feature_engineering_dataflow, dataflows.offline_etl_dataflow).build()\n"
   ]
  },
  {
   "cell_type": "code",
   "execution_count": 4,
   "id": "5c65cbd3",
   "metadata": {},
   "outputs": [
    {
     "name": "stdout",
     "output_type": "stream",
     "text": [
      "Loaded 42500 records from the simulation database\n",
      "Data covers from 2025-02-03 00:00:00 to 2025-05-30 00:00:00\n",
      "Acceptance rate: 3.3%\n"
     ]
    },
    {
     "data": {
      "text/html": [
       "<div>\n",
       "<style scoped>\n",
       "    .dataframe tbody tr th:only-of-type {\n",
       "        vertical-align: middle;\n",
       "    }\n",
       "\n",
       "    .dataframe tbody tr th {\n",
       "        vertical-align: top;\n",
       "    }\n",
       "\n",
       "    .dataframe thead th {\n",
       "        text-align: right;\n",
       "    }\n",
       "</style>\n",
       "<table border=\"1\" class=\"dataframe\">\n",
       "  <thead>\n",
       "    <tr style=\"text-align: right;\">\n",
       "      <th></th>\n",
       "      <th>id</th>\n",
       "      <th>pickup_date</th>\n",
       "      <th>origin_kma</th>\n",
       "      <th>origin_lat</th>\n",
       "      <th>origin_lon</th>\n",
       "      <th>destination_kma</th>\n",
       "      <th>destination_lat</th>\n",
       "      <th>destination_lon</th>\n",
       "      <th>miles</th>\n",
       "      <th>cost</th>\n",
       "      <th>weight</th>\n",
       "      <th>is_accepted</th>\n",
       "    </tr>\n",
       "  </thead>\n",
       "  <tbody>\n",
       "    <tr>\n",
       "      <th>0</th>\n",
       "      <td>56142904-3bc9-4fff-b4f9-2c21d6d7c723</td>\n",
       "      <td>2025-02-03</td>\n",
       "      <td>TX_DAL</td>\n",
       "      <td>32.551714</td>\n",
       "      <td>-96.466467</td>\n",
       "      <td>AZ_PHO</td>\n",
       "      <td>33.252237</td>\n",
       "      <td>-112.523175</td>\n",
       "      <td>1090.0</td>\n",
       "      <td>2474.95</td>\n",
       "      <td>29071.0</td>\n",
       "      <td>False</td>\n",
       "    </tr>\n",
       "    <tr>\n",
       "      <th>1</th>\n",
       "      <td>f0b0ee87-073b-45f3-b8a6-823fe4fbd0c0</td>\n",
       "      <td>2025-02-03</td>\n",
       "      <td>MN_MIN</td>\n",
       "      <td>45.061795</td>\n",
       "      <td>-93.342144</td>\n",
       "      <td>IL_CHI</td>\n",
       "      <td>42.037543</td>\n",
       "      <td>-87.538476</td>\n",
       "      <td>418.0</td>\n",
       "      <td>1218.20</td>\n",
       "      <td>43363.0</td>\n",
       "      <td>False</td>\n",
       "    </tr>\n",
       "    <tr>\n",
       "      <th>2</th>\n",
       "      <td>15c2f513-27e4-4337-a29a-e1cbd75fcd63</td>\n",
       "      <td>2025-02-03</td>\n",
       "      <td>AZ_PHO</td>\n",
       "      <td>33.271699</td>\n",
       "      <td>-112.253988</td>\n",
       "      <td>IN_IND</td>\n",
       "      <td>39.686093</td>\n",
       "      <td>-86.031759</td>\n",
       "      <td>1774.0</td>\n",
       "      <td>4308.00</td>\n",
       "      <td>29733.0</td>\n",
       "      <td>False</td>\n",
       "    </tr>\n",
       "    <tr>\n",
       "      <th>3</th>\n",
       "      <td>81819e4d-018c-4918-94ed-1ef0a612f0cb</td>\n",
       "      <td>2025-02-03</td>\n",
       "      <td>NJ_ELI</td>\n",
       "      <td>40.706808</td>\n",
       "      <td>-74.094930</td>\n",
       "      <td>TX_DAL</td>\n",
       "      <td>32.684084</td>\n",
       "      <td>-96.786722</td>\n",
       "      <td>1601.0</td>\n",
       "      <td>3809.52</td>\n",
       "      <td>40179.0</td>\n",
       "      <td>False</td>\n",
       "    </tr>\n",
       "    <tr>\n",
       "      <th>4</th>\n",
       "      <td>baf10567-f3e5-4795-85f8-8bed1841ecd6</td>\n",
       "      <td>2025-02-03</td>\n",
       "      <td>WI_MIL</td>\n",
       "      <td>42.968469</td>\n",
       "      <td>-87.933330</td>\n",
       "      <td>GA_ATL</td>\n",
       "      <td>33.711815</td>\n",
       "      <td>-84.199760</td>\n",
       "      <td>784.0</td>\n",
       "      <td>1350.16</td>\n",
       "      <td>36683.0</td>\n",
       "      <td>False</td>\n",
       "    </tr>\n",
       "  </tbody>\n",
       "</table>\n",
       "</div>"
      ],
      "text/plain": [
       "                                     id pickup_date origin_kma  origin_lat  \\\n",
       "0  56142904-3bc9-4fff-b4f9-2c21d6d7c723  2025-02-03     TX_DAL   32.551714   \n",
       "1  f0b0ee87-073b-45f3-b8a6-823fe4fbd0c0  2025-02-03     MN_MIN   45.061795   \n",
       "2  15c2f513-27e4-4337-a29a-e1cbd75fcd63  2025-02-03     AZ_PHO   33.271699   \n",
       "3  81819e4d-018c-4918-94ed-1ef0a612f0cb  2025-02-03     NJ_ELI   40.706808   \n",
       "4  baf10567-f3e5-4795-85f8-8bed1841ecd6  2025-02-03     WI_MIL   42.968469   \n",
       "\n",
       "   origin_lon destination_kma  destination_lat  destination_lon   miles  \\\n",
       "0  -96.466467          AZ_PHO        33.252237      -112.523175  1090.0   \n",
       "1  -93.342144          IL_CHI        42.037543       -87.538476   418.0   \n",
       "2 -112.253988          IN_IND        39.686093       -86.031759  1774.0   \n",
       "3  -74.094930          TX_DAL        32.684084       -96.786722  1601.0   \n",
       "4  -87.933330          GA_ATL        33.711815       -84.199760   784.0   \n",
       "\n",
       "      cost   weight  is_accepted  \n",
       "0  2474.95  29071.0        False  \n",
       "1  1218.20  43363.0        False  \n",
       "2  4308.00  29733.0        False  \n",
       "3  3809.52  40179.0        False  \n",
       "4  1350.16  36683.0        False  "
      ]
     },
     "execution_count": 4,
     "metadata": {},
     "output_type": "execute_result"
    }
   ],
   "source": [
    "result = adapter.execute(['load_data'], inputs={'db_path': db_path})\n",
    "df = result['load_data']\n",
    "print(f\"Loaded {len(df)} records from the simulation database\")\n",
    "print(f\"Data covers from {df['pickup_date'].min()} to {df['pickup_date'].max()}\")\n",
    "print(f\"Acceptance rate: {df['is_accepted'].mean():.1%}\")\n",
    "df.head()"
   ]
  },
  {
   "cell_type": "code",
   "execution_count": 5,
   "id": "fe8d3838",
   "metadata": {},
   "outputs": [
    {
     "data": {
      "text/html": [
       "<div>\n",
       "<style scoped>\n",
       "    .dataframe tbody tr th:only-of-type {\n",
       "        vertical-align: middle;\n",
       "    }\n",
       "\n",
       "    .dataframe tbody tr th {\n",
       "        vertical-align: top;\n",
       "    }\n",
       "\n",
       "    .dataframe thead th {\n",
       "        text-align: right;\n",
       "    }\n",
       "</style>\n",
       "<table border=\"1\" class=\"dataframe\">\n",
       "  <thead>\n",
       "    <tr style=\"text-align: right;\">\n",
       "      <th></th>\n",
       "      <th>pickup_date</th>\n",
       "      <th>origin_kma</th>\n",
       "      <th>destination_kma</th>\n",
       "      <th>miles</th>\n",
       "      <th>cost</th>\n",
       "      <th>weight</th>\n",
       "      <th>is_accepted</th>\n",
       "    </tr>\n",
       "  </thead>\n",
       "  <tbody>\n",
       "    <tr>\n",
       "      <th>7452</th>\n",
       "      <td>2025-02-21</td>\n",
       "      <td>TX_HOU</td>\n",
       "      <td>GA_ATL</td>\n",
       "      <td>810.0</td>\n",
       "      <td>2387.45</td>\n",
       "      <td>30770.0</td>\n",
       "      <td>False</td>\n",
       "    </tr>\n",
       "    <tr>\n",
       "      <th>29614</th>\n",
       "      <td>2025-04-25</td>\n",
       "      <td>NJ_ELI</td>\n",
       "      <td>TX_HOU</td>\n",
       "      <td>1657.0</td>\n",
       "      <td>3548.41</td>\n",
       "      <td>40155.0</td>\n",
       "      <td>False</td>\n",
       "    </tr>\n",
       "    <tr>\n",
       "      <th>35925</th>\n",
       "      <td>2025-05-13</td>\n",
       "      <td>WI_MIL</td>\n",
       "      <td>IL_CHI</td>\n",
       "      <td>110.0</td>\n",
       "      <td>318.83</td>\n",
       "      <td>42321.0</td>\n",
       "      <td>False</td>\n",
       "    </tr>\n",
       "    <tr>\n",
       "      <th>30539</th>\n",
       "      <td>2025-04-29</td>\n",
       "      <td>GA_ATL</td>\n",
       "      <td>MN_MIN</td>\n",
       "      <td>1057.0</td>\n",
       "      <td>610.94</td>\n",
       "      <td>32904.0</td>\n",
       "      <td>False</td>\n",
       "    </tr>\n",
       "    <tr>\n",
       "      <th>9901</th>\n",
       "      <td>2025-02-28</td>\n",
       "      <td>FL_LAK</td>\n",
       "      <td>NJ_ELI</td>\n",
       "      <td>1165.0</td>\n",
       "      <td>2700.77</td>\n",
       "      <td>27875.0</td>\n",
       "      <td>False</td>\n",
       "    </tr>\n",
       "    <tr>\n",
       "      <th>20116</th>\n",
       "      <td>2025-03-31</td>\n",
       "      <td>IN_IND</td>\n",
       "      <td>GA_ATL</td>\n",
       "      <td>491.0</td>\n",
       "      <td>432.10</td>\n",
       "      <td>26438.0</td>\n",
       "      <td>False</td>\n",
       "    </tr>\n",
       "    <tr>\n",
       "      <th>12621</th>\n",
       "      <td>2025-03-10</td>\n",
       "      <td>CA_LAX</td>\n",
       "      <td>FL_LAK</td>\n",
       "      <td>2545.0</td>\n",
       "      <td>3017.40</td>\n",
       "      <td>27884.0</td>\n",
       "      <td>False</td>\n",
       "    </tr>\n",
       "    <tr>\n",
       "      <th>1766</th>\n",
       "      <td>2025-02-06</td>\n",
       "      <td>IN_IND</td>\n",
       "      <td>GA_ATL</td>\n",
       "      <td>534.0</td>\n",
       "      <td>837.55</td>\n",
       "      <td>25466.0</td>\n",
       "      <td>False</td>\n",
       "    </tr>\n",
       "    <tr>\n",
       "      <th>11487</th>\n",
       "      <td>2025-03-05</td>\n",
       "      <td>WI_MIL</td>\n",
       "      <td>GA_ATL</td>\n",
       "      <td>722.0</td>\n",
       "      <td>1470.95</td>\n",
       "      <td>44677.0</td>\n",
       "      <td>False</td>\n",
       "    </tr>\n",
       "    <tr>\n",
       "      <th>31961</th>\n",
       "      <td>2025-05-01</td>\n",
       "      <td>CA_LAX</td>\n",
       "      <td>TX_HOU</td>\n",
       "      <td>1613.0</td>\n",
       "      <td>2938.01</td>\n",
       "      <td>33692.0</td>\n",
       "      <td>False</td>\n",
       "    </tr>\n",
       "  </tbody>\n",
       "</table>\n",
       "</div>"
      ],
      "text/plain": [
       "      pickup_date origin_kma destination_kma   miles     cost   weight  \\\n",
       "7452   2025-02-21     TX_HOU          GA_ATL   810.0  2387.45  30770.0   \n",
       "29614  2025-04-25     NJ_ELI          TX_HOU  1657.0  3548.41  40155.0   \n",
       "35925  2025-05-13     WI_MIL          IL_CHI   110.0   318.83  42321.0   \n",
       "30539  2025-04-29     GA_ATL          MN_MIN  1057.0   610.94  32904.0   \n",
       "9901   2025-02-28     FL_LAK          NJ_ELI  1165.0  2700.77  27875.0   \n",
       "20116  2025-03-31     IN_IND          GA_ATL   491.0   432.10  26438.0   \n",
       "12621  2025-03-10     CA_LAX          FL_LAK  2545.0  3017.40  27884.0   \n",
       "1766   2025-02-06     IN_IND          GA_ATL   534.0   837.55  25466.0   \n",
       "11487  2025-03-05     WI_MIL          GA_ATL   722.0  1470.95  44677.0   \n",
       "31961  2025-05-01     CA_LAX          TX_HOU  1613.0  2938.01  33692.0   \n",
       "\n",
       "       is_accepted  \n",
       "7452         False  \n",
       "29614        False  \n",
       "35925        False  \n",
       "30539        False  \n",
       "9901         False  \n",
       "20116        False  \n",
       "12621        False  \n",
       "1766         False  \n",
       "11487        False  \n",
       "31961        False  "
      ]
     },
     "execution_count": 5,
     "metadata": {},
     "output_type": "execute_result"
    }
   ],
   "source": [
    "df.sample(10)[['pickup_date', 'origin_kma', 'destination_kma', 'miles', 'cost', 'weight', 'is_accepted']]"
   ]
  },
  {
   "cell_type": "code",
   "execution_count": null,
   "id": "7a3542ab",
   "metadata": {},
   "outputs": [],
   "source": []
  },
  {
   "cell_type": "markdown",
   "id": "62fe79e8",
   "metadata": {},
   "source": [
    "## Simple Features"
   ]
  },
  {
   "cell_type": "code",
   "execution_count": 6,
   "id": "783f6a1d",
   "metadata": {},
   "outputs": [],
   "source": [
    "training_config = {'context': 'training', 'cutoff': training_cutoff}\n",
    "training_adapter = driver.Builder().with_config(training_config).with_modules(dataflows.feature_engineering_dataflow, dataflows.offline_etl_dataflow).build()\n"
   ]
  },
  {
   "cell_type": "code",
   "execution_count": 7,
   "id": "6d6a40e2",
   "metadata": {},
   "outputs": [
    {
     "data": {
      "text/plain": [
       "0        2474.95\n",
       "1        1218.20\n",
       "2        4308.00\n",
       "3        3809.52\n",
       "4        1350.16\n",
       "          ...   \n",
       "36995    3552.14\n",
       "36996    3904.80\n",
       "36997     728.08\n",
       "36998    3241.85\n",
       "36999    1145.81\n",
       "Name: cost, Length: 37000, dtype: float64"
      ]
     },
     "execution_count": 7,
     "metadata": {},
     "output_type": "execute_result"
    }
   ],
   "source": [
    "data = training_adapter.execute(['cost', 'miles'], inputs={'db_path': db_path})\n",
    "data[\"cost\"]"
   ]
  },
  {
   "cell_type": "code",
   "execution_count": 8,
   "id": "4f738f65",
   "metadata": {},
   "outputs": [
    {
     "data": {
      "image/svg+xml": [
       "<?xml version=\"1.0\" encoding=\"UTF-8\" standalone=\"no\"?>\n",
       "<!DOCTYPE svg PUBLIC \"-//W3C//DTD SVG 1.1//EN\"\n",
       " \"http://www.w3.org/Graphics/SVG/1.1/DTD/svg11.dtd\">\n",
       "<!-- Generated by graphviz version 2.43.0 (0)\n",
       " -->\n",
       "<!-- Title: %3 Pages: 1 -->\n",
       "<svg width=\"997pt\" height=\"448pt\"\n",
       " viewBox=\"0.00 0.00 997.00 448.00\" xmlns=\"http://www.w3.org/2000/svg\" xmlns:xlink=\"http://www.w3.org/1999/xlink\">\n",
       "<g id=\"graph0\" class=\"graph\" transform=\"scale(1 1) rotate(0) translate(4 444)\">\n",
       "<title>%3</title>\n",
       "<polygon fill=\"white\" stroke=\"transparent\" points=\"-4,4 -4,-444 993,-444 993,4 -4,4\"/>\n",
       "<g id=\"clust1\" class=\"cluster\">\n",
       "<title>cluster__legend</title>\n",
       "<polygon fill=\"#ffffff\" stroke=\"black\" points=\"35.5,-191 35.5,-432 131.5,-432 131.5,-191 35.5,-191\"/>\n",
       "<text text-anchor=\"middle\" x=\"83.5\" y=\"-416.8\" font-family=\"Helvetica,sans-Serif\" font-size=\"14.00\">Legend</text>\n",
       "</g>\n",
       "<!-- context -->\n",
       "<g id=\"node1\" class=\"node\">\n",
       "<title>context</title>\n",
       "<polygon fill=\"#ffffff\" stroke=\"black\" points=\"116,-50 45,-50 45,0 122,0 122,-44 116,-50\"/>\n",
       "<polyline fill=\"none\" stroke=\"black\" points=\"116,-50 116,-44 \"/>\n",
       "<polyline fill=\"none\" stroke=\"black\" points=\"122,-44 116,-44 \"/>\n",
       "<text text-anchor=\"start\" x=\"53\" y=\"-35.8\" font-family=\"Helvetica,sans-Serif\" font-weight=\"bold\" font-size=\"14.00\">context</text>\n",
       "<text text-anchor=\"start\" x=\"56\" y=\"-7.8\" font-family=\"Helvetica,sans-Serif\" font-style=\"italic\" font-size=\"14.00\">training</text>\n",
       "</g>\n",
       "<!-- cutoff -->\n",
       "<g id=\"node2\" class=\"node\">\n",
       "<title>cutoff</title>\n",
       "<polygon fill=\"#ffffff\" stroke=\"black\" points=\"161,-118 0,-118 0,-68 167,-68 167,-112 161,-118\"/>\n",
       "<polyline fill=\"none\" stroke=\"black\" points=\"161,-118 161,-112 \"/>\n",
       "<polyline fill=\"none\" stroke=\"black\" points=\"167,-112 161,-112 \"/>\n",
       "<text text-anchor=\"start\" x=\"60.5\" y=\"-103.8\" font-family=\"Helvetica,sans-Serif\" font-weight=\"bold\" font-size=\"14.00\">cutoff</text>\n",
       "<text text-anchor=\"start\" x=\"8\" y=\"-75.8\" font-family=\"Helvetica,sans-Serif\" font-style=\"italic\" font-size=\"14.00\">2025&#45;05&#45;16 00:00:00</text>\n",
       "</g>\n",
       "<!-- load_data -->\n",
       "<g id=\"node3\" class=\"node\">\n",
       "<title>load_data</title>\n",
       "<path fill=\"#b4d8e4\" stroke=\"black\" d=\"M451,-191C451,-191 376,-191 376,-191 370,-191 364,-185 364,-179 364,-179 364,-139 364,-139 364,-133 370,-127 376,-127 376,-127 451,-127 451,-127 457,-127 463,-133 463,-139 463,-139 463,-179 463,-179 463,-185 457,-191 451,-191\"/>\n",
       "<text text-anchor=\"start\" x=\"375\" y=\"-169.8\" font-family=\"Helvetica,sans-Serif\" font-weight=\"bold\" font-size=\"14.00\">load_data</text>\n",
       "<text text-anchor=\"start\" x=\"375\" y=\"-141.8\" font-family=\"Helvetica,sans-Serif\" font-style=\"italic\" font-size=\"14.00\">DataFrame</text>\n",
       "</g>\n",
       "<!-- main_data -->\n",
       "<g id=\"node4\" class=\"node\">\n",
       "<title>main_data</title>\n",
       "<path fill=\"#b4d8e4\" stroke=\"black\" d=\"M657,-227C657,-227 508,-227 508,-227 502,-227 496,-221 496,-215 496,-215 496,-175 496,-175 496,-169 502,-163 508,-163 508,-163 657,-163 657,-163 663,-163 669,-169 669,-175 669,-175 669,-215 669,-215 669,-221 663,-227 657,-227\"/>\n",
       "<text text-anchor=\"start\" x=\"507\" y=\"-205.8\" font-family=\"Helvetica,sans-Serif\" font-weight=\"bold\" font-size=\"14.00\">main_data: context</text>\n",
       "<text text-anchor=\"start\" x=\"544\" y=\"-177.8\" font-family=\"Helvetica,sans-Serif\" font-style=\"italic\" font-size=\"14.00\">DataFrame</text>\n",
       "</g>\n",
       "<!-- load_data&#45;&gt;main_data -->\n",
       "<g id=\"edge2\" class=\"edge\">\n",
       "<title>load_data&#45;&gt;main_data</title>\n",
       "<path fill=\"none\" stroke=\"black\" d=\"M463.25,-169.51C470.5,-171.07 478.16,-172.72 485.97,-174.41\"/>\n",
       "<polygon fill=\"black\" stroke=\"black\" points=\"485.41,-177.87 495.92,-176.55 486.89,-171.02 485.41,-177.87\"/>\n",
       "</g>\n",
       "<!-- miles -->\n",
       "<g id=\"node7\" class=\"node\">\n",
       "<title>miles</title>\n",
       "<path fill=\"#b4d8e4\" stroke=\"black\" d=\"M820,-268C820,-268 710,-268 710,-268 704,-268 698,-262 698,-256 698,-256 698,-216 698,-216 698,-210 704,-204 710,-204 710,-204 820,-204 820,-204 826,-204 832,-210 832,-216 832,-216 832,-256 832,-256 832,-262 826,-268 820,-268\"/>\n",
       "<text text-anchor=\"start\" x=\"709\" y=\"-246.8\" font-family=\"Helvetica,sans-Serif\" font-weight=\"bold\" font-size=\"14.00\">miles: context</text>\n",
       "<text text-anchor=\"start\" x=\"743.5\" y=\"-218.8\" font-family=\"Helvetica,sans-Serif\" font-style=\"italic\" font-size=\"14.00\">Series</text>\n",
       "</g>\n",
       "<!-- main_data&#45;&gt;miles -->\n",
       "<g id=\"edge7\" class=\"edge\">\n",
       "<title>main_data&#45;&gt;miles</title>\n",
       "<path fill=\"none\" stroke=\"black\" d=\"M669.26,-214.48C675.43,-215.88 681.64,-217.29 687.76,-218.68\"/>\n",
       "<polygon fill=\"black\" stroke=\"black\" points=\"687.42,-222.19 697.95,-221 688.97,-215.37 687.42,-222.19\"/>\n",
       "</g>\n",
       "<!-- cost -->\n",
       "<g id=\"node8\" class=\"node\">\n",
       "<title>cost</title>\n",
       "<path fill=\"#b4d8e4\" stroke=\"black\" d=\"M815.5,-186C815.5,-186 714.5,-186 714.5,-186 708.5,-186 702.5,-180 702.5,-174 702.5,-174 702.5,-134 702.5,-134 702.5,-128 708.5,-122 714.5,-122 714.5,-122 815.5,-122 815.5,-122 821.5,-122 827.5,-128 827.5,-134 827.5,-134 827.5,-174 827.5,-174 827.5,-180 821.5,-186 815.5,-186\"/>\n",
       "<text text-anchor=\"start\" x=\"713.5\" y=\"-164.8\" font-family=\"Helvetica,sans-Serif\" font-weight=\"bold\" font-size=\"14.00\">cost: context</text>\n",
       "<text text-anchor=\"start\" x=\"743.5\" y=\"-136.8\" font-family=\"Helvetica,sans-Serif\" font-style=\"italic\" font-size=\"14.00\">Series</text>\n",
       "</g>\n",
       "<!-- main_data&#45;&gt;cost -->\n",
       "<g id=\"edge8\" class=\"edge\">\n",
       "<title>main_data&#45;&gt;cost</title>\n",
       "<path fill=\"none\" stroke=\"black\" d=\"M669.26,-175.52C677.04,-173.75 684.86,-171.98 692.5,-170.24\"/>\n",
       "<polygon fill=\"black\" stroke=\"black\" points=\"693.43,-173.62 702.41,-167.99 691.88,-166.79 693.43,-173.62\"/>\n",
       "</g>\n",
       "<!-- db_connection -->\n",
       "<g id=\"node5\" class=\"node\">\n",
       "<title>db_connection</title>\n",
       "<path fill=\"#b4d8e4\" stroke=\"black\" d=\"M319,-191C319,-191 208,-191 208,-191 202,-191 196,-185 196,-179 196,-179 196,-139 196,-139 196,-133 202,-127 208,-127 208,-127 319,-127 319,-127 325,-127 331,-133 331,-139 331,-139 331,-179 331,-179 331,-185 325,-191 319,-191\"/>\n",
       "<text text-anchor=\"start\" x=\"207\" y=\"-169.8\" font-family=\"Helvetica,sans-Serif\" font-weight=\"bold\" font-size=\"14.00\">db_connection</text>\n",
       "<text text-anchor=\"start\" x=\"224\" y=\"-141.8\" font-family=\"Helvetica,sans-Serif\" font-style=\"italic\" font-size=\"14.00\">Connection</text>\n",
       "</g>\n",
       "<!-- db_connection&#45;&gt;load_data -->\n",
       "<g id=\"edge1\" class=\"edge\">\n",
       "<title>db_connection&#45;&gt;load_data</title>\n",
       "<path fill=\"none\" stroke=\"black\" d=\"M331.14,-159C338.74,-159 346.44,-159 353.92,-159\"/>\n",
       "<polygon fill=\"black\" stroke=\"black\" points=\"353.95,-162.5 363.95,-159 353.95,-155.5 353.95,-162.5\"/>\n",
       "</g>\n",
       "<!-- cost_per_mile -->\n",
       "<g id=\"node6\" class=\"node\">\n",
       "<title>cost_per_mile</title>\n",
       "<path fill=\"#ffc857\" stroke=\"black\" d=\"M977,-227C977,-227 873,-227 873,-227 867,-227 861,-221 861,-215 861,-215 861,-175 861,-175 861,-169 867,-163 873,-163 873,-163 977,-163 977,-163 983,-163 989,-169 989,-175 989,-175 989,-215 989,-215 989,-221 983,-227 977,-227\"/>\n",
       "<text text-anchor=\"start\" x=\"872\" y=\"-205.8\" font-family=\"Helvetica,sans-Serif\" font-weight=\"bold\" font-size=\"14.00\">cost_per_mile</text>\n",
       "<text text-anchor=\"start\" x=\"903.5\" y=\"-177.8\" font-family=\"Helvetica,sans-Serif\" font-style=\"italic\" font-size=\"14.00\">Series</text>\n",
       "</g>\n",
       "<!-- miles&#45;&gt;cost_per_mile -->\n",
       "<g id=\"edge6\" class=\"edge\">\n",
       "<title>miles&#45;&gt;cost_per_mile</title>\n",
       "<path fill=\"none\" stroke=\"black\" d=\"M832.09,-218.85C838.36,-217.22 844.74,-215.57 851.07,-213.92\"/>\n",
       "<polygon fill=\"black\" stroke=\"black\" points=\"852.15,-217.26 860.95,-211.36 850.4,-210.48 852.15,-217.26\"/>\n",
       "</g>\n",
       "<!-- cost&#45;&gt;cost_per_mile -->\n",
       "<g id=\"edge5\" class=\"edge\">\n",
       "<title>cost&#45;&gt;cost_per_mile</title>\n",
       "<path fill=\"none\" stroke=\"black\" d=\"M827.54,-169.97C835.22,-171.96 843.12,-174.01 850.95,-176.04\"/>\n",
       "<polygon fill=\"black\" stroke=\"black\" points=\"850.25,-179.48 860.81,-178.6 852.01,-172.7 850.25,-179.48\"/>\n",
       "</g>\n",
       "<!-- _main_data_inputs -->\n",
       "<g id=\"node9\" class=\"node\">\n",
       "<title>_main_data_inputs</title>\n",
       "<polygon fill=\"#ffffff\" stroke=\"black\" stroke-dasharray=\"5,2\" points=\"467,-254.5 360,-254.5 360,-209.5 467,-209.5 467,-254.5\"/>\n",
       "<text text-anchor=\"start\" x=\"375.5\" y=\"-227.8\" font-family=\"Helvetica,sans-Serif\" font-size=\"14.00\">cutoff</text>\n",
       "<text text-anchor=\"start\" x=\"421.5\" y=\"-227.8\" font-family=\"Helvetica,sans-Serif\" font-size=\"14.00\">date</text>\n",
       "</g>\n",
       "<!-- _main_data_inputs&#45;&gt;main_data -->\n",
       "<g id=\"edge3\" class=\"edge\">\n",
       "<title>_main_data_inputs&#45;&gt;main_data</title>\n",
       "<path fill=\"none\" stroke=\"black\" d=\"M467.34,-220.29C473.3,-218.97 479.5,-217.6 485.79,-216.21\"/>\n",
       "<polygon fill=\"black\" stroke=\"black\" points=\"486.73,-219.58 495.74,-214 485.22,-212.75 486.73,-219.58\"/>\n",
       "</g>\n",
       "<!-- _db_connection_inputs -->\n",
       "<g id=\"node10\" class=\"node\">\n",
       "<title>_db_connection_inputs</title>\n",
       "<polygon fill=\"#ffffff\" stroke=\"black\" stroke-dasharray=\"5,2\" points=\"139.5,-181.5 27.5,-181.5 27.5,-136.5 139.5,-136.5 139.5,-181.5\"/>\n",
       "<text text-anchor=\"start\" x=\"42.5\" y=\"-154.8\" font-family=\"Helvetica,sans-Serif\" font-size=\"14.00\">db_path</text>\n",
       "<text text-anchor=\"start\" x=\"105.5\" y=\"-154.8\" font-family=\"Helvetica,sans-Serif\" font-size=\"14.00\">str</text>\n",
       "</g>\n",
       "<!-- _db_connection_inputs&#45;&gt;db_connection -->\n",
       "<g id=\"edge4\" class=\"edge\">\n",
       "<title>_db_connection_inputs&#45;&gt;db_connection</title>\n",
       "<path fill=\"none\" stroke=\"black\" d=\"M139.84,-159C154.41,-159 170.39,-159 185.86,-159\"/>\n",
       "<polygon fill=\"black\" stroke=\"black\" points=\"185.93,-162.5 195.93,-159 185.93,-155.5 185.93,-162.5\"/>\n",
       "</g>\n",
       "<!-- config -->\n",
       "<g id=\"node11\" class=\"node\">\n",
       "<title>config</title>\n",
       "<polygon fill=\"#ffffff\" stroke=\"black\" points=\"107,-401 54,-401 54,-365 113,-365 113,-395 107,-401\"/>\n",
       "<polyline fill=\"none\" stroke=\"black\" points=\"107,-401 107,-395 \"/>\n",
       "<polyline fill=\"none\" stroke=\"black\" points=\"113,-395 107,-395 \"/>\n",
       "<text text-anchor=\"middle\" x=\"83.5\" y=\"-379.3\" font-family=\"Helvetica,sans-Serif\" font-size=\"14.00\">config</text>\n",
       "</g>\n",
       "<!-- input -->\n",
       "<g id=\"node12\" class=\"node\">\n",
       "<title>input</title>\n",
       "<polygon fill=\"#ffffff\" stroke=\"black\" stroke-dasharray=\"5,2\" points=\"113,-346.5 54,-346.5 54,-309.5 113,-309.5 113,-346.5\"/>\n",
       "<text text-anchor=\"middle\" x=\"83.5\" y=\"-324.3\" font-family=\"Helvetica,sans-Serif\" font-size=\"14.00\">input</text>\n",
       "</g>\n",
       "<!-- function -->\n",
       "<g id=\"node13\" class=\"node\">\n",
       "<title>function</title>\n",
       "<path fill=\"#b4d8e4\" stroke=\"black\" d=\"M111.5,-291.5C111.5,-291.5 55.5,-291.5 55.5,-291.5 49.5,-291.5 43.5,-285.5 43.5,-279.5 43.5,-279.5 43.5,-266.5 43.5,-266.5 43.5,-260.5 49.5,-254.5 55.5,-254.5 55.5,-254.5 111.5,-254.5 111.5,-254.5 117.5,-254.5 123.5,-260.5 123.5,-266.5 123.5,-266.5 123.5,-279.5 123.5,-279.5 123.5,-285.5 117.5,-291.5 111.5,-291.5\"/>\n",
       "<text text-anchor=\"middle\" x=\"83.5\" y=\"-269.3\" font-family=\"Helvetica,sans-Serif\" font-size=\"14.00\">function</text>\n",
       "</g>\n",
       "<!-- output -->\n",
       "<g id=\"node14\" class=\"node\">\n",
       "<title>output</title>\n",
       "<path fill=\"#ffc857\" stroke=\"black\" d=\"M105.5,-236.5C105.5,-236.5 61.5,-236.5 61.5,-236.5 55.5,-236.5 49.5,-230.5 49.5,-224.5 49.5,-224.5 49.5,-211.5 49.5,-211.5 49.5,-205.5 55.5,-199.5 61.5,-199.5 61.5,-199.5 105.5,-199.5 105.5,-199.5 111.5,-199.5 117.5,-205.5 117.5,-211.5 117.5,-211.5 117.5,-224.5 117.5,-224.5 117.5,-230.5 111.5,-236.5 105.5,-236.5\"/>\n",
       "<text text-anchor=\"middle\" x=\"83.5\" y=\"-214.3\" font-family=\"Helvetica,sans-Serif\" font-size=\"14.00\">output</text>\n",
       "</g>\n",
       "</g>\n",
       "</svg>\n"
      ],
      "text/plain": [
       "<graphviz.graphs.Digraph at 0x7acc149af400>"
      ]
     },
     "execution_count": 8,
     "metadata": {},
     "output_type": "execute_result"
    }
   ],
   "source": [
    "training_adapter.visualize_execution(['cost_per_mile'], inputs={'db_path': db_path})"
   ]
  },
  {
   "cell_type": "markdown",
   "id": "39a3b38f",
   "metadata": {},
   "source": [
    "# Model Training"
   ]
  },
  {
   "cell_type": "code",
   "execution_count": null,
   "id": "0dd0ad1c",
   "metadata": {},
   "outputs": [],
   "source": [
    "features = [\n",
    "    'cost',\n",
    "    'miles',\n",
    "    'weight',\n",
    "    'cost_per_mile',\n",
    "    # 'acceptance_forecast',\n",
    "]\n",
    "target = 'is_accepted'"
   ]
  },
  {
   "cell_type": "markdown",
   "id": "7d166a77",
   "metadata": {},
   "source": [
    "## Hydrate the feature store"
   ]
  },
  {
   "cell_type": "code",
   "execution_count": 10,
   "id": "82660c12",
   "metadata": {},
   "outputs": [],
   "source": [
    "feature_store_config = {'context': 'feature_store', 'feature_store_path': feature_store_path}\n",
    "feature_store_adapter = driver.Builder().with_config(feature_store_config).with_modules(dataflows.feature_engineering_dataflow, dataflows.offline_etl_dataflow).build()"
   ]
  },
  {
   "cell_type": "code",
   "execution_count": 11,
   "id": "a385b4a9",
   "metadata": {},
   "outputs": [
    {
     "data": {
      "text/html": [
       "\n",
       "<style>\n",
       "    /* Turns off some styling */\n",
       "    progress {\n",
       "        /* gets rid of default border in Firefox and Opera. */\n",
       "        border: none;\n",
       "        /* Needs to be in here for Safari polyfill so background images work as expected. */\n",
       "        background-size: auto;\n",
       "    }\n",
       "    progress:not([value]), progress:not([value])::-webkit-progress-bar {\n",
       "        background: repeating-linear-gradient(45deg, #7e7e7e, #7e7e7e 10px, #5c5c5c 10px, #5c5c5c 20px);\n",
       "    }\n",
       "    .progress-bar-interrupted, .progress-bar-interrupted::-webkit-progress-bar {\n",
       "        background: #F44336;\n",
       "    }\n",
       "</style>\n"
      ],
      "text/plain": [
       "<IPython.core.display.HTML object>"
      ]
     },
     "metadata": {},
     "output_type": "display_data"
    },
    {
     "data": {
      "text/html": [
       "\n",
       "    <div>\n",
       "      <progress value='132' class='' max='132' style='width:300px; height:20px; vertical-align: middle;'></progress>\n",
       "      100.00% [132/132 00:25&lt;00:00]\n",
       "    </div>\n",
       "    "
      ],
      "text/plain": [
       "<IPython.core.display.HTML object>"
      ]
     },
     "metadata": {},
     "output_type": "display_data"
    },
    {
     "data": {
      "text/plain": [
       "{'acceptance_forecast': None}"
      ]
     },
     "execution_count": 11,
     "metadata": {},
     "output_type": "execute_result"
    }
   ],
   "source": [
    "feature_store_adapter.execute(['acceptance_forecast'], inputs={'db_path': db_path})"
   ]
  },
  {
   "cell_type": "markdown",
   "id": "011d9327",
   "metadata": {},
   "source": [
    "## Train the model"
   ]
  },
  {
   "cell_type": "markdown",
   "id": "4734fbd6",
   "metadata": {},
   "source": [
    "### Features"
   ]
  },
  {
   "cell_type": "code",
   "execution_count": 12,
   "id": "341dd36b",
   "metadata": {},
   "outputs": [],
   "source": [
    "training_config = {'context': 'training', 'cutoff': training_cutoff}\n",
    "training_inputs = {'db_path': db_path, 'feature_store_path': feature_store_path}\n",
    "training_adapter = driver.Builder().with_config(training_config).with_modules(dataflows.feature_engineering_dataflow, dataflows.offline_etl_dataflow).build()\n"
   ]
  },
  {
   "cell_type": "code",
   "execution_count": 13,
   "id": "f896e65b",
   "metadata": {},
   "outputs": [],
   "source": [
    "training_features_df = pd.DataFrame(training_adapter.execute(features, inputs=training_inputs))\n",
    "training_target_df = pd.DataFrame(training_adapter.execute([target], inputs=training_inputs))"
   ]
  },
  {
   "cell_type": "markdown",
   "id": "acef7519",
   "metadata": {},
   "source": [
    "### Model"
   ]
  },
  {
   "cell_type": "code",
   "execution_count": 14,
   "id": "172fa9a4",
   "metadata": {},
   "outputs": [],
   "source": [
    "model_training_config = {'context': 'training', 'hyperparams': None, 'model_file_path': 'model.pkl'}\n",
    "model_training_inputs = {'features_df': training_features_df, 'target_df': training_target_df}\n",
    "model_training_adapter = driver.Builder().with_config(model_training_config).with_modules(dataflows.modeling_dataflow).build()\n"
   ]
  },
  {
   "cell_type": "code",
   "execution_count": 15,
   "id": "fa5ea1e1",
   "metadata": {},
   "outputs": [
    {
     "data": {
      "text/plain": [
       "{'save_model': {}}"
      ]
     },
     "execution_count": 15,
     "metadata": {},
     "output_type": "execute_result"
    }
   ],
   "source": [
    "model_training_adapter.execute(['save_model'], inputs=model_training_inputs)"
   ]
  },
  {
   "cell_type": "markdown",
   "id": "89fce28c",
   "metadata": {},
   "source": [
    "# Model evaluation"
   ]
  },
  {
   "cell_type": "code",
   "execution_count": 16,
   "id": "9bb77e48",
   "metadata": {},
   "outputs": [],
   "source": [
    "test_config = {'context': 'testing', 'cutoff': training_cutoff}\n",
    "test_inputs = {'db_path': db_path, 'feature_store_path': feature_store_path}\n",
    "test_adapter = driver.Builder().with_config(test_config).with_modules(dataflows.feature_engineering_dataflow, dataflows.offline_etl_dataflow).build()\n",
    "test_features_df = pd.DataFrame(test_adapter.execute(features, inputs=test_inputs))\n",
    "test_target_df = pd.DataFrame(test_adapter.execute([target], inputs=test_inputs))"
   ]
  },
  {
   "cell_type": "code",
   "execution_count": 17,
   "id": "c253c898",
   "metadata": {},
   "outputs": [],
   "source": [
    "model_evaluation_config = {'model_file_path': 'model.pkl', 'prediction_threshold': 0.5}\n",
    "model_evaluation_inputs = {'features_df': test_features_df, 'target_df': test_target_df}\n",
    "model_evaluation_adapter = driver.Builder().with_config(model_evaluation_config).with_modules(dataflows.modeling_dataflow).build()\n"
   ]
  },
  {
   "cell_type": "code",
   "execution_count": 18,
   "id": "afc3462b",
   "metadata": {},
   "outputs": [
    {
     "name": "stdout",
     "output_type": "stream",
     "text": [
      "Accuracy: 98.5%\n",
      "Precision: 76.2%\n",
      "Recall: 74.0%\n"
     ]
    },
    {
     "data": {
      "image/png": "[encoded data removed]",
      "text/plain": [
       "<Figure size 640x480 with 1 Axes>"
      ]
     },
     "metadata": {},
     "output_type": "display_data"
    },
    {
     "data": {
      "image/png": "[encoded data removed]",
      "text/plain": [
       "<Figure size 640x480 with 2 Axes>"
      ]
     },
     "metadata": {},
     "output_type": "display_data"
    }
   ],
   "source": [
    "metrics = [\n",
    "    'accuracy',\n",
    "    'precision',\n",
    "    'recall',\n",
    "    'precision_recall_curve',\n",
    "    'confusion_matrix',\n",
    "]\n",
    "model_evaluation_results = model_evaluation_adapter.execute(metrics, inputs=model_evaluation_inputs)"
   ]
  },
  {
   "cell_type": "markdown",
   "id": "1b4ebe3e",
   "metadata": {},
   "source": [
    "# Inference"
   ]
  },
  {
   "cell_type": "code",
   "execution_count": 19,
   "id": "fd937d50",
   "metadata": {},
   "outputs": [],
   "source": [
    "load = Load(\n",
    "        id=\"test-load-123\",\n",
    "        origin=Location.from_kma(KMA.CA_LAX),\n",
    "        destination=Location.from_kma(KMA.CA_STK),\n",
    "        miles=2000,\n",
    "        pickup_date=date(2025, 5, 16),\n",
    "        cost=3500.00,\n",
    "        weight=8000,\n",
    "    )"
   ]
  },
  {
   "cell_type": "code",
   "execution_count": 20,
   "id": "9de2575e",
   "metadata": {},
   "outputs": [],
   "source": [
    "inference_config = {'context': 'inference'}\n",
    "inference_inputs = {'feature_store_path': feature_store_path, 'load': load}\n",
    "inference_adapter = driver.Builder().with_config(inference_config).with_modules(dataflows.feature_engineering_dataflow, dataflows.online_inference_dataflow).build()\n",
    "inference_features_df = pd.DataFrame(inference_adapter.execute(features, inputs=inference_inputs))"
   ]
  },
  {
   "cell_type": "code",
   "execution_count": 21,
   "id": "7ca83b6a",
   "metadata": {},
   "outputs": [
    {
     "data": {
      "text/plain": [
       "{'predicted_probabilities': array([0.91166013], dtype=float32)}"
      ]
     },
     "execution_count": 21,
     "metadata": {},
     "output_type": "execute_result"
    }
   ],
   "source": [
    "model_inference_config = {'model_file_path': 'model.pkl', 'prediction_threshold': 0.5}\n",
    "model_inference_inputs = {'features_df': inference_features_df}\n",
    "model_inference_adapter = driver.Builder().with_config(model_inference_config).with_modules(dataflows.modeling_dataflow).build()\n",
    "model_inference_results = model_inference_adapter.execute(['predicted_probabilities'], inputs=model_inference_inputs)\n",
    "model_inference_results"
   ]
  },
  {
   "cell_type": "code",
   "execution_count": null,
   "id": "aadc08aa",
   "metadata": {},
   "outputs": [],
   "source": []
  }
 ],
 "metadata": {
  "kernelspec": {
   "display_name": ".venv",
   "language": "python",
   "name": "python3"
  },
  "language_info": {
   "codemirror_mode": {
    "name": "ipython",
    "version": 3
   },
   "file_extension": ".py",
   "mimetype": "text/x-python",
   "name": "python",
   "nbconvert_exporter": "python",
   "pygments_lexer": "ipython3",
   "version": "3.10.12"
  }
 },
 "nbformat": 4,
 "nbformat_minor": 5
}
